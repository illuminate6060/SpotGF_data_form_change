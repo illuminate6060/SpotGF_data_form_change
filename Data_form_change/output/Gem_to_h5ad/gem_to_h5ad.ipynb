{
 "cells": [
  {
   "cell_type": "code",
   "execution_count": 1,
   "metadata": {},
   "outputs": [
    {
     "name": "stderr",
     "output_type": "stream",
     "text": [
      "/data/public/dulin/miniconda/lib/python3.9/site-packages/tqdm/auto.py:21: TqdmWarning: IProgress not found. Please update jupyter and ipywidgets. See https://ipywidgets.readthedocs.io/en/stable/user_install.html\n",
      "  from .autonotebook import tqdm as notebook_tqdm\n"
     ]
    }
   ],
   "source": [
    "import scanpy as sc\n",
    "import pandas as pd\n",
    "import numpy as np\n",
    "from scipy import sparse\n",
    "import anndata\n",
    "import matplotlib.pyplot as plt\n",
    "import seaborn as sns\n",
    "plt.rcdefaults()"
   ]
  },
  {
   "cell_type": "code",
   "execution_count": 2,
   "metadata": {},
   "outputs": [],
   "source": [
    "def cellbingem2adata(gem_path):\n",
    "    df = pd.read_table(gem_path,comment='#')\n",
    "    # df.rename(columns={'imagecol':'y'},inplace=True)\n",
    "    # df.rename(columns={'imagerow':'x'},inplace=True)\n",
    "    df.rename(columns={'label':'cellID'},inplace=True)\n",
    "\n",
    "    ex_group = df.groupby(['cellID'])['x','y'].mean().reset_index()\n",
    "    ex_group.drop(columns= 'cellID',inplace=True)\n",
    "    ex_group[\"x\"] = ex_group[\"x\"].astype(int)\n",
    "    ex_group[\"y\"] = ex_group[\"y\"].astype(int)\n",
    "    df = df[['cellID', 'geneID', 'MIDCount']]\n",
    "    cell_list = df[\"cellID\"].astype('category')\n",
    "    gene_list = df[\"geneID\"].astype('category')\n",
    "    data =  df[\"MIDCount\"].to_numpy()\n",
    "    row = cell_list.cat.codes.to_numpy()\n",
    "    col = gene_list.cat.codes.to_numpy()\n",
    "    obs = pd.DataFrame(index = cell_list.cat.categories)\n",
    "    var = pd.DataFrame(index = gene_list.cat.categories)\n",
    "    X = sparse.csr_matrix((data, (row, col)), shape = (len(obs), len(var)))\n",
    "    adata = anndata.AnnData(X, obs = obs, var = var)\n",
    "    adata.obsm['spatial'] = np.array(list(ex_group.apply(list,axis = 1)))\n",
    "    return adata"
   ]
  },
  {
   "cell_type": "code",
   "execution_count": 3,
   "metadata": {},
   "outputs": [
    {
     "name": "stderr",
     "output_type": "stream",
     "text": [
      "/tmp/ipykernel_25742/3047599902.py:7: FutureWarning: Indexing with multiple keys (implicitly converted to a tuple of keys) will be deprecated, use a list instead.\n",
      "  ex_group = df.groupby(['cellID'])['x','y'].mean().reset_index()\n",
      "/data/public/dulin/miniconda/lib/python3.9/site-packages/anndata/_core/aligned_df.py:67: ImplicitModificationWarning: Transforming to str index.\n",
      "  warnings.warn(\"Transforming to str index.\", ImplicitModificationWarning)\n"
     ]
    },
    {
     "data": {
      "text/plain": [
       "AnnData object with n_obs × n_vars = 2379 × 17486\n",
       "    obsm: 'spatial'"
      ]
     },
     "execution_count": 3,
     "metadata": {},
     "output_type": "execute_result"
    }
   ],
   "source": [
    "adata = cellbingem2adata('./input/Visium_to_gem/demoe_visium_orchid.cellbin.gem')\n",
    "adata"
   ]
  },
  {
   "cell_type": "code",
   "execution_count": 4,
   "metadata": {},
   "outputs": [],
   "source": [
    "adata.write(\"demoe_visium_orchid.cellbin.h5ad\")"
   ]
  }
 ],
 "metadata": {
  "kernelspec": {
   "display_name": "base",
   "language": "python",
   "name": "python3"
  },
  "language_info": {
   "codemirror_mode": {
    "name": "ipython",
    "version": 3
   },
   "file_extension": ".py",
   "mimetype": "text/x-python",
   "name": "python",
   "nbconvert_exporter": "python",
   "pygments_lexer": "ipython3",
   "version": "3.9.19"
  }
 },
 "nbformat": 4,
 "nbformat_minor": 2
}
