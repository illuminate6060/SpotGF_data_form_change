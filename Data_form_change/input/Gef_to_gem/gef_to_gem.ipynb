{
 "cells": [
  {
   "cell_type": "code",
   "execution_count": null,
   "metadata": {
    "vscode": {
     "languageId": "plaintext"
    }
   },
   "outputs": [],
   "source": [
    "# pip install gefpy"
   ]
  },
  {
   "cell_type": "code",
   "execution_count": null,
   "metadata": {
    "vscode": {
     "languageId": "plaintext"
    }
   },
   "outputs": [],
   "source": [
    "## gef2gem using gefpy\n",
    "\n",
    "from gefpy.bgef_reader_cy import BgefR\n",
    "\n",
    "bgef=BgefR(filepath='FP200000617TL_B6.gef',bin_size=200,n_thread=4)\n",
    "\n",
    "bgef.to_gem('FP200000617TL_B6.bin200.gem')\n",
    " "
   ]
  },
  {
   "cell_type": "code",
   "execution_count": null,
   "metadata": {
    "vscode": {
     "languageId": "plaintext"
    }
   },
   "outputs": [],
   "source": [
    "from gefpy.gef_to_gem_cy import gefToGem\n",
    "\n",
    "strout = \"FP200000617TL_B6.gem\"\n",
    "strsn = \"FP200000617TL_B6\"\n",
    "obj = gefToGem(strout, strsn)\n",
    "\n",
    "# generate bgem\n",
    "strbgef = \"FP200000617TL_B6.bgef\"\n",
    "binsize = 10\n",
    "obj.bgef2gem(strbgef, binsize)\n",
    "\n",
    "# generate cgem by bgef and cgef\n",
    "strcgef = \"FP200000617TL_B6.cgef\"\n",
    "obj.cgef2gem(strcgef, strbgef)\n",
    "\n",
    "# generate cgem by bgef and mask\n",
    "strmask = \"FP200000617TL_B6_mask.tif\"\n",
    "obj.bgef2cgem(strmask, strbgef)"
   ]
  }
 ],
 "metadata": {
  "language_info": {
   "name": "python"
  }
 },
 "nbformat": 4,
 "nbformat_minor": 2
}
